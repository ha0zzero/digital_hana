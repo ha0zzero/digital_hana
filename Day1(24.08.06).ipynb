{
 "cells": [
  {
   "cell_type": "markdown",
   "id": "7aaab91b-12a8-47e9-aedd-6564a27ed69e",
   "metadata": {},
   "source": [
    "# 데이터 분석과 개념 확립"
   ]
  },
  {
   "cell_type": "markdown",
   "id": "19195204-d225-4fe1-ae9d-8742a5ff3f66",
   "metadata": {
    "jp-MarkdownHeadingCollapsed": true
   },
   "source": [
    "## 데이터 분석 트렌드 변화\n",
    "- 데이터 : 여러 정보의 집합\n",
    "- 1. 전통 통계 :\n",
    "     - 초기 현장에서는 통계를 활용해 데이터를 분석하고 처리\n",
    "     - 통계 : 모집단 (파악하고자 하는 바)에서 표본 (수집 가능 및 처리 가능한) 데이터를 추출(sampling) 하여 분석한 통계량을 바탕으로 모집단을 추정(estimation)한 과정\n",
    "     - 데이터 수집의 한계로, 적은 데이터를 가지고 예측\n",
    "- 2. 데이터 마이닝 :\n",
    "     - 통계학과 컴퓨터 기술 발전이 결합되어, 기존에 다루던 사이즈보다 더 큰 규모의 데이터를 다룰 수 있게 됨\n",
    "     - 모집단의 개념 없이, 전체 데이터를 컴퓨터가 학습 및 처리하여, 기존에 없던 새로운 규칙이나 수식을 도출하는 형태로 분석\n",
    "     - 기존 통계학과 달리 확보된 데이터가 모집단을 의미\n",
    "     - 1990년도 식스시그마라는 이름의 문제해결 방법으로 기업에 등장 및 사용\n",
    "- 3. 빅데이터 :\n",
    "     - IT 기술의 발전으로, 기존에 다루던 데이터보다 더 큰 데이터를 다룰 수 있게 됨\n",
    "     - 두 가지 관점의 변화\n",
    "         - 데이터 사이즈 : 병렬 컴퓨팅이 가능해지며, 이전에 한 대에서 처리하던 방식에서 여러 컴퓨터로 연산이 가능해짐 (MPI / MapReduce)\n",
    "         - 데이터 구조 : 기존에는 정형데이터 (Excel, RDB, CSV, SQL)에 한정된 분석을 했지만, 비정형 데이터 (이미지, 소리, 영상, 자연어 등)과 같은 데이터를 처리하고 분석하는 기술이 등장\n",
    "      \n",
    "- IT 기술 뿐 아니라 통계적인 개념과 실무에서 어떻게 데이터를 분석하는지에 대한 전체적인 흐름을 읽을 수 있어야 함"
   ]
  },
  {
   "cell_type": "markdown",
   "id": "b6b24f8c-a2a6-46ec-a3c3-d55c0eb691c1",
   "metadata": {
    "jp-MarkdownHeadingCollapsed": true
   },
   "source": [
    "## 데이터 분석 절차\n",
    "- 1. 기술적 데이터 분석 (Descriptive Data Analysis)\n",
    "     - 데이터를 가져와서 데이터의 기본적인 정보를 파악\n",
    "     - 데이터의 구조와 타입을 확인\n",
    "     - 목표변수 (Y, Output, Label, Target : 문제 해결에 있어 핵심이 되는 data)와 설명변수 (X, Input, Feature)를 설정\n",
    "     - 기술통계량 확인 (평균 / 중위수 / 분산 / 빈도수 / etc )\n",
    "- 2. 탐색적 데이터 분석 (Exploratory D A)\n",
    "     - 앞서 확인한 목표 변수와 설명 변수 간 관계를 파악\n",
    "     - 데이터 시각화\n",
    "- 3. 확증적 데이터 분석 (Confirmatory D A)\n",
    "     - 데이터 간 연관성 / 상관성 / 유사성 등을 가설로 수립하여, 객관적인 수치로 검증\n",
    "     - 검정을 통해 비지니스 인사이트 도출\n",
    "- 4. 예측적 데이터 분석 (Predictive D A)\n",
    "      - 목표변수와 설명변수 간의 관계를 수식화하여 (Modeling), 새로 등장할 데이터에 대해 예측하거나 대응\n",
    "      - 회귀분석 / 머신러닝\n",
    "      - 최적화 / 시스템화"
   ]
  },
  {
   "cell_type": "markdown",
   "id": "0d22060e-886e-457d-b50f-b346352fd442",
   "metadata": {},
   "source": [
    "# Jupyter Notebook 사용법\n",
    "- cell : 코드나 마크다운을 작성하는 하나의 상자\n",
    "- markdown mode : 마크다운이란 마크업 언어의 일종이다"
   ]
  },
  {
   "cell_type": "markdown",
   "id": "1040be61-b07c-4b3b-bf3e-2aeee8100b2e",
   "metadata": {},
   "source": [
    "- 단축키 : (Esc 입력 후 입력)\n",
    "    - [a] : above : 현재 위치한 셀 상단에 셀 추가\n",
    "    - [b] : below : 현재 위치한 셀 하단에 셀 추가\n",
    "    - [x ] : 잘라내기\n",
    "    - [DD] : 삭제 (두 번 입력)\n",
    "    - [z] : 실행취소 : 셀에서 실행취소 (Ctrl) / 노트북 자체 실행취소 (Esc)\n",
    "    - [M]: 마크다운 모드로 변경\n",
    "    - [Y]: 코드 모드로 변경\n",
    "      \n",
    "- [shift] + [Enter] : 셀 실행\n",
    "- [Alt] + [Enter] : 하단에 셀을 하나 추가하며 현재 셀 실행\n",
    "- [Ctrl] + [S] : 저장\n",
    "- [Ctrl] + [/] : 주석변환 : 코드 모드일 때 주석을 달기 위해 사용"
   ]
  },
  {
   "cell_type": "markdown",
   "id": "948a5d09-0267-4796-87f4-65c61c3de87b",
   "metadata": {
    "jp-MarkdownHeadingCollapsed": true
   },
   "source": [
    "# 헤더1 : 제일 큰 헤더\n",
    "## 헤더2 : 2번째로 큰 헤더\n",
    "**굵은 글씨로 표현**\n",
    "# **헤더와 함께 굵은 글씨**"
   ]
  },
  {
   "cell_type": "markdown",
   "id": "825198dd-211f-4a7a-b23f-81b1c867482c",
   "metadata": {},
   "source": [
    "# 파이썬 기초 문법 "
   ]
  },
  {
   "cell_type": "markdown",
   "id": "874213c0-4afd-4fd4-8b9a-74996c4b9bcb",
   "metadata": {},
   "source": [
    "## 변수의 개념\n",
    "- 변수 : 데이터를 들고 다니는 공간\n",
    "- 변수를 선언한다 : 등호 왼쪽에 변수 이름을, 등호 오른쪽에 데이터를 입력"
   ]
  },
  {
   "cell_type": "code",
   "execution_count": 51,
   "id": "681de437-af6b-4c4b-bc46-ce0d992fbbdb",
   "metadata": {},
   "outputs": [],
   "source": [
    "data1 = 101\n",
    "data2 = 10.1"
   ]
  },
  {
   "cell_type": "code",
   "execution_count": 52,
   "id": "6c45137d-0c2d-4a6e-a372-868887e992ac",
   "metadata": {},
   "outputs": [
    {
     "data": {
      "text/plain": [
       "101"
      ]
     },
     "execution_count": 52,
     "metadata": {},
     "output_type": "execute_result"
    }
   ],
   "source": [
    "data1"
   ]
  },
  {
   "cell_type": "code",
   "execution_count": 53,
   "id": "ec842840-db08-4fe0-976c-f18394d0f58c",
   "metadata": {},
   "outputs": [
    {
     "data": {
      "text/plain": [
       "'파이썬 데이터 분석'"
      ]
     },
     "execution_count": 53,
     "metadata": {},
     "output_type": "execute_result"
    }
   ],
   "source": [
    "data3 # 정의되지 않은 변수"
   ]
  },
  {
   "cell_type": "code",
   "execution_count": 54,
   "id": "8c996a8c-db90-4c48-9f44-fa9feccecbc6",
   "metadata": {},
   "outputs": [
    {
     "data": {
      "text/plain": [
       "111.1"
      ]
     },
     "execution_count": 54,
     "metadata": {},
     "output_type": "execute_result"
    }
   ],
   "source": [
    "data1 + data2"
   ]
  },
  {
   "cell_type": "markdown",
   "id": "98d60cff-a8e0-44cc-913a-85e2da789a61",
   "metadata": {},
   "source": [
    "## 데이터 타입 \n",
    "\n",
    "- 숫자형 / 문자형 / 논리형\n",
    "- 숫자형 : int 정수형 / float 소수점까지 표현\n",
    "- 문자형 : 문자열 str\n",
    "- 논리형 : 참 혹은 거짓 (True / False)\n",
    "\n",
    "- 파이썬은 대소문자를 구분!\n",
    "- type(): 데이터 타입을 확인할 수 있는 함수"
   ]
  },
  {
   "cell_type": "code",
   "execution_count": 55,
   "id": "6c3d591c-ec80-42c6-8ad6-cf921f92777d",
   "metadata": {},
   "outputs": [],
   "source": [
    "data3 = '파이썬 데이터 분석' # 문자형 변수 선언 시, 따옴표 사용해야함"
   ]
  },
  {
   "cell_type": "code",
   "execution_count": 56,
   "id": "a03ec0dc-cfe3-4f04-b8f3-e581a53d502f",
   "metadata": {},
   "outputs": [
    {
     "data": {
      "text/plain": [
       "'파이썬 데이터 분석'"
      ]
     },
     "execution_count": 56,
     "metadata": {},
     "output_type": "execute_result"
    }
   ],
   "source": [
    "data3"
   ]
  },
  {
   "cell_type": "code",
   "execution_count": 57,
   "id": "a44137dd-8ef3-4dd9-a6f8-03ca9d6dc637",
   "metadata": {},
   "outputs": [
    {
     "data": {
      "text/plain": [
       "str"
      ]
     },
     "execution_count": 57,
     "metadata": {},
     "output_type": "execute_result"
    }
   ],
   "source": [
    "type(data3)"
   ]
  },
  {
   "cell_type": "code",
   "execution_count": 58,
   "id": "43bc746c-2311-421a-8aef-cc390a6ee6c9",
   "metadata": {},
   "outputs": [
    {
     "data": {
      "text/plain": [
       "True"
      ]
     },
     "execution_count": 58,
     "metadata": {},
     "output_type": "execute_result"
    }
   ],
   "source": [
    "# 논리형\n",
    "True"
   ]
  },
  {
   "cell_type": "code",
   "execution_count": 59,
   "id": "9068e9fe-0572-41e5-a1d8-37a485edeeb8",
   "metadata": {},
   "outputs": [
    {
     "data": {
      "text/plain": [
       "False"
      ]
     },
     "execution_count": 59,
     "metadata": {},
     "output_type": "execute_result"
    }
   ],
   "source": [
    "False"
   ]
  },
  {
   "cell_type": "code",
   "execution_count": 60,
   "id": "0f8cd305-65ce-432c-9909-7be8f36e4b60",
   "metadata": {},
   "outputs": [
    {
     "data": {
      "text/plain": [
       "bool"
      ]
     },
     "execution_count": 60,
     "metadata": {},
     "output_type": "execute_result"
    }
   ],
   "source": [
    "type(True) # 논리형 : boolean"
   ]
  },
  {
   "cell_type": "code",
   "execution_count": 61,
   "id": "f706475d-80a5-405e-9a42-902b494a5f97",
   "metadata": {},
   "outputs": [],
   "source": [
    "int1 = 1\n",
    "float1 = 1.0"
   ]
  },
  {
   "cell_type": "code",
   "execution_count": 62,
   "id": "50e2cc06-b62a-42be-a7d0-07ab3fcf9299",
   "metadata": {},
   "outputs": [
    {
     "data": {
      "text/plain": [
       "int"
      ]
     },
     "execution_count": 62,
     "metadata": {},
     "output_type": "execute_result"
    }
   ],
   "source": [
    "type(int1) # 정수형"
   ]
  },
  {
   "cell_type": "code",
   "execution_count": 63,
   "id": "d6418d73-d2d6-4ba8-af38-cefc5f030692",
   "metadata": {},
   "outputs": [
    {
     "data": {
      "text/plain": [
       "float"
      ]
     },
     "execution_count": 63,
     "metadata": {},
     "output_type": "execute_result"
    }
   ],
   "source": [
    "type(float1) # 실수형 소수점 표현"
   ]
  },
  {
   "cell_type": "markdown",
   "id": "57b7808f-9494-4d3e-958d-7d31cfeaa0cd",
   "metadata": {},
   "source": [
    "## 파이썬 연산자\n",
    "- 데이터 타입에 따라 연산 방법이 달라짐"
   ]
  },
  {
   "cell_type": "code",
   "execution_count": 64,
   "id": "6b009397-f8df-4fe3-8cc6-a148e8cc120a",
   "metadata": {},
   "outputs": [
    {
     "data": {
      "text/plain": [
       "111.1"
      ]
     },
     "execution_count": 64,
     "metadata": {},
     "output_type": "execute_result"
    }
   ],
   "source": [
    "data1 + data2 # 덧셈"
   ]
  },
  {
   "cell_type": "code",
   "execution_count": 65,
   "id": "befd019d-54a6-472a-8cef-8a0d1d76e125",
   "metadata": {},
   "outputs": [
    {
     "data": {
      "text/plain": [
       "90.9"
      ]
     },
     "execution_count": 65,
     "metadata": {},
     "output_type": "execute_result"
    }
   ],
   "source": [
    "data1 - data2 # 뺼셈"
   ]
  },
  {
   "cell_type": "code",
   "execution_count": 66,
   "id": "fba9464a-390d-43bb-8eec-1394324868f7",
   "metadata": {},
   "outputs": [
    {
     "data": {
      "text/plain": [
       "1020.0999999999999"
      ]
     },
     "execution_count": 66,
     "metadata": {},
     "output_type": "execute_result"
    }
   ],
   "source": [
    "data1 * data2 # 곱셈"
   ]
  },
  {
   "cell_type": "code",
   "execution_count": 67,
   "id": "e743bc4d-19fe-4cd4-9bf3-12aa98eab683",
   "metadata": {},
   "outputs": [
    {
     "data": {
      "text/plain": [
       "10.0"
      ]
     },
     "execution_count": 67,
     "metadata": {},
     "output_type": "execute_result"
    }
   ],
   "source": [
    "data1 / data2 # 나눗셈"
   ]
  },
  {
   "cell_type": "code",
   "execution_count": 68,
   "id": "fe15b19d-657c-4a90-9a9a-72b7bf5717f3",
   "metadata": {},
   "outputs": [
    {
     "data": {
      "text/plain": [
       "3"
      ]
     },
     "execution_count": 68,
     "metadata": {},
     "output_type": "execute_result"
    }
   ],
   "source": [
    "7//2 # 2로 나눈 몫"
   ]
  },
  {
   "cell_type": "code",
   "execution_count": 69,
   "id": "c556090e-8d67-4270-a5b2-a6176585d6ac",
   "metadata": {},
   "outputs": [
    {
     "data": {
      "text/plain": [
       "1"
      ]
     },
     "execution_count": 69,
     "metadata": {},
     "output_type": "execute_result"
    }
   ],
   "source": [
    "7%2 # 2로 나눈 나머지"
   ]
  },
  {
   "cell_type": "code",
   "execution_count": 70,
   "id": "0ce3cc64-9041-414f-82d8-4347eb1caf26",
   "metadata": {},
   "outputs": [
    {
     "data": {
      "text/plain": [
       "2.0"
      ]
     },
     "execution_count": 70,
     "metadata": {},
     "output_type": "execute_result"
    }
   ],
   "source": [
    "( (1+4) * 2 ) / 5 # 괄호 적용됨"
   ]
  },
  {
   "cell_type": "code",
   "execution_count": 28,
   "id": "24c0333a-60bd-4899-9a4e-59d282b1788b",
   "metadata": {},
   "outputs": [],
   "source": [
    "# 문자 데이터\n",
    "data4 = 'python 데이터'\n",
    "data5 = '분석'"
   ]
  },
  {
   "cell_type": "code",
   "execution_count": 30,
   "id": "3af02669-e9ec-4947-a12b-c5cf97b174cb",
   "metadata": {},
   "outputs": [
    {
     "data": {
      "text/plain": [
       "'python 데이터분석'"
      ]
     },
     "execution_count": 30,
     "metadata": {},
     "output_type": "execute_result"
    }
   ],
   "source": [
    "data4 + data5 # 두 개의 문자열을 이어붙여 쓴다"
   ]
  },
  {
   "cell_type": "code",
   "execution_count": 31,
   "id": "9bee4d55-dfce-442e-8b60-c337c8043cb9",
   "metadata": {},
   "outputs": [
    {
     "data": {
      "text/plain": [
       "'python 데이터 분석'"
      ]
     },
     "execution_count": 31,
     "metadata": {},
     "output_type": "execute_result"
    }
   ],
   "source": [
    "data4 + ' ' + data5"
   ]
  },
  {
   "cell_type": "code",
   "execution_count": 33,
   "id": "5dc2b86c-67d5-42fe-8897-7740062cd96a",
   "metadata": {},
   "outputs": [
    {
     "data": {
      "text/plain": [
       "'분석분석분석'"
      ]
     },
     "execution_count": 33,
     "metadata": {},
     "output_type": "execute_result"
    }
   ],
   "source": [
    "data5 * 3 # 세 번 반복 출력"
   ]
  },
  {
   "cell_type": "code",
   "execution_count": 34,
   "id": "c2a3444e-bb64-4c87-b55c-f95215d3ab7e",
   "metadata": {},
   "outputs": [
    {
     "data": {
      "text/plain": [
       "False"
      ]
     },
     "execution_count": 34,
     "metadata": {},
     "output_type": "execute_result"
    }
   ],
   "source": [
    "data4 > data5\n",
    "# 알파벳 순서 상 뒤에 위치한게 더 큼\n",
    "# 알파벳이 한글보다 큼"
   ]
  },
  {
   "cell_type": "code",
   "execution_count": 35,
   "id": "d7adae96-ed8c-43a1-8499-33a8932e7bd1",
   "metadata": {},
   "outputs": [
    {
     "data": {
      "text/plain": [
       "True"
      ]
     },
     "execution_count": 35,
     "metadata": {},
     "output_type": "execute_result"
    }
   ],
   "source": [
    "'Z' > 'A'"
   ]
  },
  {
   "cell_type": "markdown",
   "id": "74c3821c-2ac0-4a86-85f8-5c7b6bd92b4d",
   "metadata": {},
   "source": [
    "# 논리형 연산 (비교구분)"
   ]
  },
  {
   "cell_type": "code",
   "execution_count": 39,
   "id": "5cec3bbc-9320-4a63-a7a1-f9e68f0559d7",
   "metadata": {},
   "outputs": [],
   "source": [
    "data6 = 50\n",
    "data7 = 90"
   ]
  },
  {
   "cell_type": "code",
   "execution_count": 40,
   "id": "65d03001-e305-438e-b892-8333d0ada91f",
   "metadata": {},
   "outputs": [
    {
     "data": {
      "text/plain": [
       "True"
      ]
     },
     "execution_count": 40,
     "metadata": {},
     "output_type": "execute_result"
    }
   ],
   "source": [
    "data6 < data7 # 후자가 더 크다"
   ]
  },
  {
   "cell_type": "code",
   "execution_count": 42,
   "id": "d199935e-ad39-454a-a8a8-a702224f8ba1",
   "metadata": {},
   "outputs": [
    {
     "data": {
      "text/plain": [
       "False"
      ]
     },
     "execution_count": 42,
     "metadata": {},
     "output_type": "execute_result"
    }
   ],
   "source": [
    "data6 >= data7 # 크거나 같다 "
   ]
  },
  {
   "cell_type": "code",
   "execution_count": 43,
   "id": "fe62ba0b-2980-4b0b-bee6-1ef83aa783a3",
   "metadata": {},
   "outputs": [
    {
     "data": {
      "text/plain": [
       "False"
      ]
     },
     "execution_count": 43,
     "metadata": {},
     "output_type": "execute_result"
    }
   ],
   "source": [
    "data6 == data7 # 같다"
   ]
  },
  {
   "cell_type": "code",
   "execution_count": 44,
   "id": "9acd234d-1882-459f-b841-4bfd0964f9f7",
   "metadata": {},
   "outputs": [
    {
     "data": {
      "text/plain": [
       "True"
      ]
     },
     "execution_count": 44,
     "metadata": {},
     "output_type": "execute_result"
    }
   ],
   "source": [
    "data6 != data7 # 같지 않다"
   ]
  },
  {
   "cell_type": "code",
   "execution_count": 45,
   "id": "3c75b19c-bfd0-4a12-a1cd-da745cf56804",
   "metadata": {},
   "outputs": [],
   "source": [
    "# print 함수\n",
    "# 출력해주는 함수"
   ]
  },
  {
   "cell_type": "code",
   "execution_count": 46,
   "id": "8cce1bee-015b-47c4-863c-219bacdbabdf",
   "metadata": {},
   "outputs": [
    {
     "name": "stdout",
     "output_type": "stream",
     "text": [
      "안녕하세요\n"
     ]
    }
   ],
   "source": [
    "print('안녕하세요')"
   ]
  },
  {
   "cell_type": "code",
   "execution_count": 47,
   "id": "b0da0f1d-9aa7-45c6-bd93-be86a9d23031",
   "metadata": {},
   "outputs": [
    {
     "data": {
      "text/plain": [
       "'안녕하세요'"
      ]
     },
     "execution_count": 47,
     "metadata": {},
     "output_type": "execute_result"
    }
   ],
   "source": [
    "'안녕하세요'"
   ]
  },
  {
   "cell_type": "code",
   "execution_count": 49,
   "id": "60146915-4c0e-42a2-a572-c96890d015d2",
   "metadata": {},
   "outputs": [
    {
     "data": {
      "text/plain": [
       "'분석'"
      ]
     },
     "execution_count": 49,
     "metadata": {},
     "output_type": "execute_result"
    }
   ],
   "source": [
    "data4\n",
    "data5\n",
    "\n",
    "# 이 경우, data4는 출력되지 않음"
   ]
  },
  {
   "cell_type": "code",
   "execution_count": 50,
   "id": "607a0ec5-5671-4ebe-822c-9ed872cd3714",
   "metadata": {},
   "outputs": [
    {
     "name": "stdout",
     "output_type": "stream",
     "text": [
      "python 데이터\n",
      "분석\n"
     ]
    }
   ],
   "source": [
    "print(data4)\n",
    "print(data5)"
   ]
  },
  {
   "cell_type": "markdown",
   "id": "963f0a24-655d-444e-a3a3-c6f567aa23d6",
   "metadata": {},
   "source": [
    "## 파이썬 자료 구조\n",
    "- 하나의 폴더 안에 여러 파일이 있듯\n",
    "- 하나의 자료구조 안에 여러 데이터가 들어감\n",
    "- List []\n",
    "- Tuple ()\n",
    "- Set { } # 집합 연산이 가능한 구조\n",
    "- Dictionary {'key1' : 'value1', 'key2' : 'value2', ...}\n",
    "\n",
    "## 리스트\n",
    "- [ 대 괄 호 ] 로 구성\n",
    "- 데이터에 순서가 있음\n",
    "- 중복값 허용\n",
    "- 데이터 수정 가능"
   ]
  },
  {
   "cell_type": "code",
   "execution_count": 75,
   "id": "415f44e7-f236-424b-ae6a-51ad5559e8f5",
   "metadata": {},
   "outputs": [],
   "source": [
    "data8 = [20, 30, 40, 50] # 순서가 있다는 말은 오름 / 내림차순으로 표현하지 않는다는 것"
   ]
  },
  {
   "cell_type": "code",
   "execution_count": 72,
   "id": "eb85fc5d-f44c-4c17-a9b5-aaa82b1f5882",
   "metadata": {},
   "outputs": [
    {
     "data": {
      "text/plain": [
       "[20, 30, 40, 50]"
      ]
     },
     "execution_count": 72,
     "metadata": {},
     "output_type": "execute_result"
    }
   ],
   "source": [
    "data8"
   ]
  },
  {
   "cell_type": "code",
   "execution_count": 73,
   "id": "bbcda133-4e9c-4a43-b3f8-9c91f4082319",
   "metadata": {},
   "outputs": [
    {
     "data": {
      "text/plain": [
       "list"
      ]
     },
     "execution_count": 73,
     "metadata": {},
     "output_type": "execute_result"
    }
   ],
   "source": [
    "type(data8)"
   ]
  },
  {
   "cell_type": "code",
   "execution_count": 76,
   "id": "9a4fe2ba-dbab-45cf-b479-9ac27f730ccd",
   "metadata": {},
   "outputs": [],
   "source": [
    "# append\n",
    "data8.append(150)"
   ]
  },
  {
   "cell_type": "code",
   "execution_count": 77,
   "id": "1499d22c-d083-4600-8112-efe57a4760b3",
   "metadata": {},
   "outputs": [
    {
     "data": {
      "text/plain": [
       "[20, 30, 40, 50, 150]"
      ]
     },
     "execution_count": 77,
     "metadata": {},
     "output_type": "execute_result"
    }
   ],
   "source": [
    "data8"
   ]
  },
  {
   "cell_type": "code",
   "execution_count": 78,
   "id": "382849cd-6896-4138-b54b-bc801e800609",
   "metadata": {},
   "outputs": [],
   "source": [
    "# remove 삭제\n",
    "data8.remove(30)"
   ]
  },
  {
   "cell_type": "code",
   "execution_count": 79,
   "id": "30d4d242-1cf7-4ebf-923c-4c1e1dc52c0c",
   "metadata": {},
   "outputs": [
    {
     "data": {
      "text/plain": [
       "[20, 40, 50, 150]"
      ]
     },
     "execution_count": 79,
     "metadata": {},
     "output_type": "execute_result"
    }
   ],
   "source": [
    "data8"
   ]
  },
  {
   "cell_type": "code",
   "execution_count": 83,
   "id": "be1d3227-a3e7-44b5-81dc-80939974ecf5",
   "metadata": {},
   "outputs": [],
   "source": [
    "# inset 위치를 지정하여 추가\n",
    "data8.insert(0, 'a') # 0번쨰 자리에 a 추가 됨"
   ]
  },
  {
   "cell_type": "code",
   "execution_count": 84,
   "id": "08cf0713-b4c3-4e3b-87a8-8f2007f41d6d",
   "metadata": {},
   "outputs": [
    {
     "data": {
      "text/plain": [
       "['a', 'a', 20, 40, 50, 150]"
      ]
     },
     "execution_count": 84,
     "metadata": {},
     "output_type": "execute_result"
    }
   ],
   "source": [
    "data8"
   ]
  },
  {
   "cell_type": "code",
   "execution_count": 86,
   "id": "74fe0667-0832-43e4-ad43-36d1187ed9ee",
   "metadata": {},
   "outputs": [
    {
     "data": {
      "text/plain": [
       "'a'"
      ]
     },
     "execution_count": 86,
     "metadata": {},
     "output_type": "execute_result"
    }
   ],
   "source": [
    "# 인덱싱\n",
    "data8[0] # 파이썬은 인덱스가 0으로 시작"
   ]
  },
  {
   "cell_type": "code",
   "execution_count": 87,
   "id": "42d9921c-3647-424a-aba3-c009e597fad9",
   "metadata": {},
   "outputs": [
    {
     "data": {
      "text/plain": [
       "50"
      ]
     },
     "execution_count": 87,
     "metadata": {},
     "output_type": "execute_result"
    }
   ],
   "source": [
    "data8[4]"
   ]
  },
  {
   "cell_type": "code",
   "execution_count": 90,
   "id": "d6aaaaa7-3043-4601-b1bd-efb41439070a",
   "metadata": {},
   "outputs": [
    {
     "data": {
      "text/plain": [
       "150"
      ]
     },
     "execution_count": 90,
     "metadata": {},
     "output_type": "execute_result"
    }
   ],
   "source": [
    "data8[-1] # 맨 뒤에 있는 인덱스"
   ]
  },
  {
   "cell_type": "code",
   "execution_count": 91,
   "id": "5f229deb-3cca-42f6-8ad7-fd24bb6bfd10",
   "metadata": {},
   "outputs": [
    {
     "data": {
      "text/plain": [
       "['a', 'a', 20]"
      ]
     },
     "execution_count": 91,
     "metadata": {},
     "output_type": "execute_result"
    }
   ],
   "source": [
    "# 슬라이싱\n",
    "data8[0:3] # n번부터 m-1번까지 호출"
   ]
  },
  {
   "cell_type": "code",
   "execution_count": 92,
   "id": "93072623-d2e4-4f23-99e6-71754d002a6d",
   "metadata": {},
   "outputs": [
    {
     "data": {
      "text/plain": [
       "['a', 'a', 20, 40, 50, 150]"
      ]
     },
     "execution_count": 92,
     "metadata": {},
     "output_type": "execute_result"
    }
   ],
   "source": [
    "data8"
   ]
  },
  {
   "cell_type": "code",
   "execution_count": 93,
   "id": "f5f3823f-753c-445a-a81f-8f0e67d73cac",
   "metadata": {},
   "outputs": [
    {
     "data": {
      "text/plain": [
       "[40, 50, 150]"
      ]
     },
     "execution_count": 93,
     "metadata": {},
     "output_type": "execute_result"
    }
   ],
   "source": [
    "data8[3:]"
   ]
  },
  {
   "cell_type": "code",
   "execution_count": 96,
   "id": "e896e66c-e821-4ecf-9320-011128fa0af2",
   "metadata": {},
   "outputs": [
    {
     "data": {
      "text/plain": [
       "[40, 50, 150]"
      ]
     },
     "execution_count": 96,
     "metadata": {},
     "output_type": "execute_result"
    }
   ],
   "source": [
    "data8[-3:] # 콜론만 쓰면 그 뒤 전부 호출"
   ]
  },
  {
   "cell_type": "code",
   "execution_count": 97,
   "id": "27c93b98-f024-4216-bfb1-e5bf17828104",
   "metadata": {},
   "outputs": [
    {
     "data": {
      "text/plain": [
       "['a', 'a', 20]"
      ]
     },
     "execution_count": 97,
     "metadata": {},
     "output_type": "execute_result"
    }
   ],
   "source": [
    "data8[:-3] # 뒤에서 세번째까지 보여달라"
   ]
  },
  {
   "cell_type": "code",
   "execution_count": 98,
   "id": "c9c505fd-d9ba-443e-86e5-0456106f448d",
   "metadata": {},
   "outputs": [],
   "source": [
    "# 데이터 변환\n",
    "data8[0] = 'z'"
   ]
  },
  {
   "cell_type": "code",
   "execution_count": 99,
   "id": "d5ba7d5b-86f7-457f-9535-9ac0d538c1cc",
   "metadata": {},
   "outputs": [
    {
     "data": {
      "text/plain": [
       "['z', 'a', 20, 40, 50, 150]"
      ]
     },
     "execution_count": 99,
     "metadata": {},
     "output_type": "execute_result"
    }
   ],
   "source": [
    "data8"
   ]
  },
  {
   "cell_type": "markdown",
   "id": "ec24d990-349f-40c1-9c73-a320c11d1f90",
   "metadata": {},
   "source": [
    "## 튜플\n",
    "- (소 괄 호)로 구성\n",
    "- 중복값을 허용\n",
    "- 수정 불가"
   ]
  },
  {
   "cell_type": "code",
   "execution_count": 100,
   "id": "c5007876-341b-4e7f-b8cd-b6c634021145",
   "metadata": {},
   "outputs": [
    {
     "data": {
      "text/plain": [
       "(2, 5, 7)"
      ]
     },
     "execution_count": 100,
     "metadata": {},
     "output_type": "execute_result"
    }
   ],
   "source": [
    "data9 = (2, 5, 7)\n",
    "data9"
   ]
  },
  {
   "cell_type": "code",
   "execution_count": 101,
   "id": "7fc63463-8666-4d25-ad0a-7cd8070cd125",
   "metadata": {},
   "outputs": [
    {
     "data": {
      "text/plain": [
       "tuple"
      ]
     },
     "execution_count": 101,
     "metadata": {},
     "output_type": "execute_result"
    }
   ],
   "source": [
    "type(data9)"
   ]
  },
  {
   "cell_type": "code",
   "execution_count": 103,
   "id": "65a030dd-ef58-4dfa-b4b1-03e08e4a38f8",
   "metadata": {},
   "outputs": [
    {
     "data": {
      "text/plain": [
       "2"
      ]
     },
     "execution_count": 103,
     "metadata": {},
     "output_type": "execute_result"
    }
   ],
   "source": [
    "# 인덱싱\n",
    "data9[0]\n",
    "# 튜플 또한 순서가 있기에 인덱싱 가능"
   ]
  },
  {
   "cell_type": "code",
   "execution_count": 104,
   "id": "b1301da0-f82f-4148-81e4-fe41796834a4",
   "metadata": {},
   "outputs": [
    {
     "ename": "TypeError",
     "evalue": "'tuple' object does not support item assignment",
     "output_type": "error",
     "traceback": [
      "\u001b[1;31m---------------------------------------------------------------------------\u001b[0m",
      "\u001b[1;31mTypeError\u001b[0m                                 Traceback (most recent call last)",
      "Cell \u001b[1;32mIn[104], line 1\u001b[0m\n\u001b[1;32m----> 1\u001b[0m data9[\u001b[38;5;241m0\u001b[39m] \u001b[38;5;241m=\u001b[39m \u001b[38;5;124m'\u001b[39m\u001b[38;5;124mz\u001b[39m\u001b[38;5;124m'\u001b[39m\n",
      "\u001b[1;31mTypeError\u001b[0m: 'tuple' object does not support item assignment"
     ]
    }
   ],
   "source": [
    "data9[0] = 'z'"
   ]
  },
  {
   "cell_type": "code",
   "execution_count": 105,
   "id": "d7623799-d25a-4397-89b2-b42ecbc6a633",
   "metadata": {},
   "outputs": [
    {
     "data": {
      "text/plain": [
       "[2, 5, 7]"
      ]
     },
     "execution_count": 105,
     "metadata": {},
     "output_type": "execute_result"
    }
   ],
   "source": [
    "# 튜플 수정\n",
    "# 리스트로 변환\n",
    "\n",
    "list(data9) # 출력만 해주는 함수"
   ]
  },
  {
   "cell_type": "code",
   "execution_count": 107,
   "id": "b9c07b98-c668-493c-86f0-9e01e41d3678",
   "metadata": {},
   "outputs": [
    {
     "data": {
      "text/plain": [
       "[1, 2, 3]"
      ]
     },
     "execution_count": 107,
     "metadata": {},
     "output_type": "execute_result"
    }
   ],
   "source": [
    "tuple1 = (1, 2, 3)\n",
    "list1 = list(tuple1)\n",
    "list1"
   ]
  },
  {
   "cell_type": "code",
   "execution_count": 108,
   "id": "c6a12915-0c33-4941-9dc0-ffba41f118bb",
   "metadata": {},
   "outputs": [
    {
     "data": {
      "text/plain": [
       "['a', 2, 3]"
      ]
     },
     "execution_count": 108,
     "metadata": {},
     "output_type": "execute_result"
    }
   ],
   "source": [
    "# 수정\n",
    "list1[0] = 'a'\n",
    "list1"
   ]
  },
  {
   "cell_type": "code",
   "execution_count": 109,
   "id": "baac4a10-38a3-4d27-ae03-fda158ea528a",
   "metadata": {},
   "outputs": [
    {
     "data": {
      "text/plain": [
       "('a', 2, 3)"
      ]
     },
     "execution_count": 109,
     "metadata": {},
     "output_type": "execute_result"
    }
   ],
   "source": [
    "tuple2 = tuple(list1)\n",
    "tuple2"
   ]
  },
  {
   "cell_type": "markdown",
   "id": "7773fd2f-d55d-464d-8ceb-0b43b25c0058",
   "metadata": {},
   "source": [
    "## Set 세트\n",
    "- {중 괄 호} 구성\n",
    "- 중복값이 없음\n",
    "- 데이터 수정 가능\n",
    "- 집합 연산이 가능"
   ]
  },
  {
   "cell_type": "code",
   "execution_count": 110,
   "id": "762b441a-5350-4294-bba1-0fe23783a867",
   "metadata": {},
   "outputs": [
    {
     "data": {
      "text/plain": [
       "{1, 2, 3, 4, 5}"
      ]
     },
     "execution_count": 110,
     "metadata": {},
     "output_type": "execute_result"
    }
   ],
   "source": [
    "set1 = {5, 1, 5, 4, 3, 2, 1}\n",
    "set1"
   ]
  },
  {
   "cell_type": "code",
   "execution_count": 111,
   "id": "81871d4f-3ec8-43de-8451-4f559e6e6d20",
   "metadata": {},
   "outputs": [
    {
     "data": {
      "text/plain": [
       "5"
      ]
     },
     "execution_count": 111,
     "metadata": {},
     "output_type": "execute_result"
    }
   ],
   "source": [
    "len(set1)\n",
    "# len( ): 자료구조 내 몇 개의 데이터가 있는지 확인하는 함수\n",
    "# length"
   ]
  },
  {
   "cell_type": "code",
   "execution_count": 112,
   "id": "8a9bca67-26fd-4633-806e-0603fb83a344",
   "metadata": {},
   "outputs": [],
   "source": [
    "# 집합 연산\n",
    "set2 = {20, 30, 40, 50, 60}\n",
    "set3 = {50, 60, 70, 80}"
   ]
  },
  {
   "cell_type": "code",
   "execution_count": 113,
   "id": "6b85bb06-6e1b-4d2c-b08c-4592a50d8cce",
   "metadata": {
    "scrolled": true
   },
   "outputs": [
    {
     "data": {
      "text/plain": [
       "{50, 60}"
      ]
     },
     "execution_count": 113,
     "metadata": {},
     "output_type": "execute_result"
    }
   ],
   "source": [
    "# 교집합\n",
    "set2 & set3"
   ]
  },
  {
   "cell_type": "code",
   "execution_count": 114,
   "id": "c704eeb2-532a-479c-8e9f-53af3b6f2c61",
   "metadata": {},
   "outputs": [
    {
     "data": {
      "text/plain": [
       "{20, 30, 40, 50, 60, 70, 80}"
      ]
     },
     "execution_count": 114,
     "metadata": {},
     "output_type": "execute_result"
    }
   ],
   "source": [
    "# 합집합\n",
    "set2 | set3"
   ]
  },
  {
   "cell_type": "code",
   "execution_count": 115,
   "id": "714ba733-bc90-4e6e-a099-ebf78fa0ab1c",
   "metadata": {},
   "outputs": [
    {
     "data": {
      "text/plain": [
       "{20, 30, 40, 70, 80}"
      ]
     },
     "execution_count": 115,
     "metadata": {},
     "output_type": "execute_result"
    }
   ],
   "source": [
    "# 대상차집합\n",
    "# 교집하블 제외한 데이터\n",
    "set2 ^ set3"
   ]
  },
  {
   "cell_type": "code",
   "execution_count": 117,
   "id": "64e5e287-3ba5-4d4d-a182-0dd8231e06c2",
   "metadata": {},
   "outputs": [
    {
     "ename": "TypeError",
     "evalue": "'set' object is not subscriptable",
     "output_type": "error",
     "traceback": [
      "\u001b[1;31m---------------------------------------------------------------------------\u001b[0m",
      "\u001b[1;31mTypeError\u001b[0m                                 Traceback (most recent call last)",
      "Cell \u001b[1;32mIn[117], line 1\u001b[0m\n\u001b[1;32m----> 1\u001b[0m set2[\u001b[38;5;241m0\u001b[39m]\n",
      "\u001b[1;31mTypeError\u001b[0m: 'set' object is not subscriptable"
     ]
    }
   ],
   "source": [
    "set2[0] # 순서가 없어서 인덱스라는게 없음"
   ]
  },
  {
   "cell_type": "markdown",
   "id": "9b3501cd-32ab-495c-8ac7-d4422b8039cb",
   "metadata": {},
   "source": [
    "## Dictionary\n",
    "- key와 value로 구성\n",
    "- {'key1' : 'value1', 'key2' : 'value2', ...}\n",
    "- 순서는 key 기준으로 정렬\n",
    "- 정형데이터의 기본 구성 요소"
   ]
  },
  {
   "cell_type": "code",
   "execution_count": 131,
   "id": "f653a224-25e1-4beb-a291-61991e0aa954",
   "metadata": {},
   "outputs": [],
   "source": [
    "dict1 = {'이름' : '스펀지밥', '직업' : '햄버거 가게 아르바이트'}"
   ]
  },
  {
   "cell_type": "code",
   "execution_count": 132,
   "id": "877288e5-0dcd-44fb-9e01-c2641fcf495c",
   "metadata": {},
   "outputs": [
    {
     "data": {
      "text/plain": [
       "{'이름': '스펀지밥', '직업': '햄버거 가게 아르바이트'}"
      ]
     },
     "execution_count": 132,
     "metadata": {},
     "output_type": "execute_result"
    }
   ],
   "source": [
    "dict1"
   ]
  },
  {
   "cell_type": "code",
   "execution_count": 133,
   "id": "ae2fb1dc-6b1d-4311-8006-b91af03956e6",
   "metadata": {},
   "outputs": [
    {
     "data": {
      "text/plain": [
       "'스펀지밥'"
      ]
     },
     "execution_count": 133,
     "metadata": {},
     "output_type": "execute_result"
    }
   ],
   "source": [
    "dict1['이름']"
   ]
  },
  {
   "cell_type": "code",
   "execution_count": 134,
   "id": "200fec27-55d3-47eb-89a9-c155418335e2",
   "metadata": {},
   "outputs": [
    {
     "data": {
      "text/plain": [
       "{'이름': '스펀지밥', '직업': '햄버거 가게 아르바이트', '친구': '핑핑이'}"
      ]
     },
     "execution_count": 134,
     "metadata": {},
     "output_type": "execute_result"
    }
   ],
   "source": [
    "# 데이터 추가\n",
    "dict1['친구'] = '핑핑이'\n",
    "dict1"
   ]
  },
  {
   "cell_type": "code",
   "execution_count": 135,
   "id": "0ad65c18-d578-472c-b416-d03114d74f54",
   "metadata": {},
   "outputs": [
    {
     "data": {
      "text/plain": [
       "dict_keys(['이름', '직업', '친구'])"
      ]
     },
     "execution_count": 135,
     "metadata": {},
     "output_type": "execute_result"
    }
   ],
   "source": [
    "# 키 확인\n",
    "dict1.keys()"
   ]
  },
  {
   "cell_type": "code",
   "execution_count": 136,
   "id": "a3901954-1dd1-48c6-b14f-a16680d47487",
   "metadata": {},
   "outputs": [
    {
     "data": {
      "text/plain": [
       "dict_values(['스펀지밥', '햄버거 가게 아르바이트', '핑핑이'])"
      ]
     },
     "execution_count": 136,
     "metadata": {},
     "output_type": "execute_result"
    }
   ],
   "source": [
    "# 값 확인\n",
    "dict1.values()"
   ]
  },
  {
   "cell_type": "code",
   "execution_count": 137,
   "id": "505d8df2-2d63-478f-ba92-f41b880d4e81",
   "metadata": {},
   "outputs": [],
   "source": [
    "# 두 개의 리스트를 하나의 딕셔너리로 병합 가능\n",
    "dict2 = ['이름', '나이', '지역', '성별']\n",
    "dict3 = ['홍길동', '20', '서울', '남자']"
   ]
  },
  {
   "cell_type": "code",
   "execution_count": 138,
   "id": "53579b63-03c2-41f9-aac4-c147e0ea8831",
   "metadata": {},
   "outputs": [
    {
     "data": {
      "text/plain": [
       "list"
      ]
     },
     "execution_count": 138,
     "metadata": {},
     "output_type": "execute_result"
    }
   ],
   "source": [
    "type(dict2)"
   ]
  },
  {
   "cell_type": "code",
   "execution_count": 141,
   "id": "5876e7da-3b82-47a7-a1ac-3099ba7881dd",
   "metadata": {},
   "outputs": [
    {
     "ename": "TypeError",
     "evalue": "'dict' object is not callable",
     "output_type": "error",
     "traceback": [
      "\u001b[1;31m---------------------------------------------------------------------------\u001b[0m",
      "\u001b[1;31mTypeError\u001b[0m                                 Traceback (most recent call last)",
      "Cell \u001b[1;32mIn[141], line 1\u001b[0m\n\u001b[1;32m----> 1\u001b[0m \u001b[38;5;28mdict\u001b[39m(\u001b[38;5;28mzip\u001b[39m(dict2, dict3))\n",
      "\u001b[1;31mTypeError\u001b[0m: 'dict' object is not callable"
     ]
    }
   ],
   "source": [
    "dict(zip(dict2, dict3))\n",
    "# dict2 : keys\n",
    "# dict3 : values"
   ]
  },
  {
   "cell_type": "markdown",
   "id": "447dce78-79dd-489a-97ac-bad6538990c8",
   "metadata": {},
   "source": [
    "## 문자열 처리\n",
    "- 문자 데이터 에 대한 다양한 처리\n",
    "- 정형 데이터 뿐 아니라 자연어 처리에서도 사용되는 함수들이 존재"
   ]
  },
  {
   "cell_type": "code",
   "execution_count": 142,
   "id": "4df2fd99-4a7c-4508-89b0-43a5aee0e6a8",
   "metadata": {},
   "outputs": [
    {
     "data": {
      "text/plain": [
       "'파이썬 데이터 분석'"
      ]
     },
     "execution_count": 142,
     "metadata": {},
     "output_type": "execute_result"
    }
   ],
   "source": [
    "# 문자 데이터 출력 시 따옴표 사용\n",
    "'파이썬 데이터 분석'"
   ]
  },
  {
   "cell_type": "code",
   "execution_count": 144,
   "id": "3bb7b0cb-828e-49df-b552-c24e19ea361e",
   "metadata": {},
   "outputs": [
    {
     "data": {
      "text/plain": [
       "' 안녕하세요\\n감사해요 \\n잘 있어요\\n다시 만나요'"
      ]
     },
     "execution_count": 144,
     "metadata": {},
     "output_type": "execute_result"
    }
   ],
   "source": [
    "# 여러 줄을 입력하는 경우\n",
    "''' 안녕하세요\n",
    "감사해요 \n",
    "잘 있어요\n",
    "다시 만나요'''"
   ]
  },
  {
   "cell_type": "code",
   "execution_count": 145,
   "id": "e300223c-8d4a-4208-923e-65fed337d380",
   "metadata": {},
   "outputs": [
    {
     "name": "stdout",
     "output_type": "stream",
     "text": [
      " 안녕하세요\n",
      "감사해요\n",
      "잘 있어요\n",
      "다시 만나요\n"
     ]
    }
   ],
   "source": [
    "# \\n을 안보고 싶은 경우\n",
    "print( ''' 안녕하세요\n",
    "감사해요\n",
    "잘 있어요\n",
    "다시 만나요''')"
   ]
  },
  {
   "cell_type": "code",
   "execution_count": 148,
   "id": "473668ea-b38f-449e-a847-3b6ba7cb7a7b",
   "metadata": {},
   "outputs": [
    {
     "name": "stdout",
     "output_type": "stream",
     "text": [
      "오늘부터 파이썬 전문가 \n",
      "쉽지 않은 여정\n"
     ]
    }
   ],
   "source": [
    "print('오늘부터 파이썬 전문가 \\n쉽지 않은 여정')\n",
    "# \\n을 이용해 엔터 출력 가능"
   ]
  },
  {
   "cell_type": "code",
   "execution_count": 151,
   "id": "ce0a2fe7-ab1e-4bd7-a950-7305d184e24d",
   "metadata": {},
   "outputs": [
    {
     "data": {
      "text/plain": [
       "\" '사실 저도 당신을 좋아합니다' 라고 속으로 생각했다.\""
      ]
     },
     "execution_count": 151,
     "metadata": {},
     "output_type": "execute_result"
    }
   ],
   "source": [
    "# 따옴표를 구분해야하는 경우\n",
    "\" '사실 저도 당신을 좋아합니다' 라고 속으로 생각했다.\"\n",
    "# 문장 내 따옴표를 사용하려는 경우\n",
    "# 큰/ 작은 따옴표를 구분해서 사용한다"
   ]
  },
  {
   "cell_type": "markdown",
   "id": "6b94e367-a08c-4080-a373-270b6f78be87",
   "metadata": {},
   "source": [
    "## 문자열 연산 응용\n",
    "- 함수 사용"
   ]
  },
  {
   "cell_type": "code",
   "execution_count": 152,
   "id": "ba0e127e-56b5-40e0-8d15-6ccb9d62d9e3",
   "metadata": {},
   "outputs": [
    {
     "data": {
      "text/plain": [
       "10"
      ]
     },
     "execution_count": 152,
     "metadata": {},
     "output_type": "execute_result"
    }
   ],
   "source": [
    "text1 = '오늘도 비가 올까요'\n",
    "len(text1) # 띄어쓰기 포함하여 몇 글자인지 세준다"
   ]
  },
  {
   "cell_type": "code",
   "execution_count": 154,
   "id": "53c52e6a-0fe8-4d15-a393-c816a419e872",
   "metadata": {},
   "outputs": [
    {
     "data": {
      "text/plain": [
       "'온'"
      ]
     },
     "execution_count": 154,
     "metadata": {},
     "output_type": "execute_result"
    }
   ],
   "source": [
    "text2 = '온종일 비가 온 날은 하얀 얼굴로 그대를 만나리'\n",
    "text2[0]\n",
    "# 문자열 인덱싱"
   ]
  },
  {
   "cell_type": "code",
   "execution_count": 155,
   "id": "5781ab88-b220-45de-adcd-52d878690496",
   "metadata": {},
   "outputs": [
    {
     "data": {
      "text/plain": [
       "'온종일 비가 온 날'"
      ]
     },
     "execution_count": 155,
     "metadata": {},
     "output_type": "execute_result"
    }
   ],
   "source": [
    "# 문자열 슬라이싱\n",
    "text2[0:10] # n부터 m-1까지 출력\n",
    "# 0 ~ 9 까지 출력"
   ]
  },
  {
   "cell_type": "code",
   "execution_count": 156,
   "id": "f42bb05c-cd74-4a45-8b93-b08cb76751a2",
   "metadata": {},
   "outputs": [
    {
     "data": {
      "text/plain": [
       "'안녕하세요 저의 mbti는 entj입니다. 혈액형은 rh+o입니다.'"
      ]
     },
     "execution_count": 156,
     "metadata": {},
     "output_type": "execute_result"
    }
   ],
   "source": [
    "# 포메팅\n",
    "mbti = 'entj'\n",
    "blood_type = 'rh+o'\n",
    "\n",
    "f'안녕하세요 저의 mbti는 {mbti}입니다. 혈액형은 {blood_type}입니다.'"
   ]
  },
  {
   "cell_type": "code",
   "execution_count": 157,
   "id": "56b8ee8f-291a-498c-988c-43eacd0175d4",
   "metadata": {},
   "outputs": [
    {
     "data": {
      "text/plain": [
       "'안녕하세요 저의 mbti는 entj입니다.'"
      ]
     },
     "execution_count": 157,
     "metadata": {},
     "output_type": "execute_result"
    }
   ],
   "source": [
    "'안녕하세요 저의 mbti는 ' + mbti + '입니다.'"
   ]
  },
  {
   "cell_type": "code",
   "execution_count": 160,
   "id": "4d908984-7428-4590-9651-a5ca73f57fe4",
   "metadata": {},
   "outputs": [
    {
     "data": {
      "text/plain": [
       "'안녕하세요 저의 이름은 홍길동이고 나이는 20입니다.'"
      ]
     },
     "execution_count": 160,
     "metadata": {},
     "output_type": "execute_result"
    }
   ],
   "source": [
    "# 딕셔너리를 활용한 포메팅\n",
    "\n",
    "text4 = {'이름' : '홍길동', '나이' : 20, 'MBTI' : 'ENFP'}\n",
    "f'안녕하세요 저의 이름은 {text4[\"이름\"]}이고 나이는 {text4[\"나이\"]}입니다.'\n",
    "# 따옴표 구분이 필요하다"
   ]
  },
  {
   "cell_type": "code",
   "execution_count": 161,
   "id": "7704ac08-9f62-480b-b3d4-68cacb3aabcb",
   "metadata": {},
   "outputs": [
    {
     "data": {
      "text/plain": [
       "3"
      ]
     },
     "execution_count": 161,
     "metadata": {},
     "output_type": "execute_result"
    }
   ],
   "source": [
    "# 문자 개수 세기\n",
    "text5 = 'show me the money'\n",
    "text5.count('e')"
   ]
  },
  {
   "cell_type": "code",
   "execution_count": 162,
   "id": "3320e7a3-8e38-4582-8067-18d9e59db212",
   "metadata": {},
   "outputs": [
    {
     "data": {
      "text/plain": [
       "1"
      ]
     },
     "execution_count": 162,
     "metadata": {},
     "output_type": "execute_result"
    }
   ],
   "source": [
    "text5.count('show')\n",
    "# 대소문자 구분 필요"
   ]
  },
  {
   "cell_type": "code",
   "execution_count": 164,
   "id": "d3f5e998-f336-4947-92b2-5757d77e7633",
   "metadata": {},
   "outputs": [
    {
     "data": {
      "text/plain": [
       "'SHOW ME THE MONEY'"
      ]
     },
     "execution_count": 164,
     "metadata": {},
     "output_type": "execute_result"
    }
   ],
   "source": [
    "# 대/소문자 변환\n",
    "text5.upper()"
   ]
  },
  {
   "cell_type": "code",
   "execution_count": 165,
   "id": "b3299a67-7de4-47db-a80e-d8988dfd1049",
   "metadata": {},
   "outputs": [
    {
     "data": {
      "text/plain": [
       "'show me the money'"
      ]
     },
     "execution_count": 165,
     "metadata": {},
     "output_type": "execute_result"
    }
   ],
   "source": [
    "text5.lower()"
   ]
  },
  {
   "cell_type": "code",
   "execution_count": 166,
   "id": "3d3ae3fa-34cd-46c7-ba0c-8960b449f526",
   "metadata": {},
   "outputs": [
    {
     "data": {
      "text/plain": [
       "5"
      ]
     },
     "execution_count": 166,
     "metadata": {},
     "output_type": "execute_result"
    }
   ],
   "source": [
    "# 문자의 위치 찾기\n",
    "text5.find('m')"
   ]
  },
  {
   "cell_type": "code",
   "execution_count": 167,
   "id": "5913a4f3-d6b6-4a51-8eb8-3cdad03a5924",
   "metadata": {},
   "outputs": [
    {
     "data": {
      "text/plain": [
       "['show', 'me', 'the', 'money']"
      ]
     },
     "execution_count": 167,
     "metadata": {},
     "output_type": "execute_result"
    }
   ],
   "source": [
    "# 문자열 나누기\n",
    "text5.split(' ')"
   ]
  },
  {
   "cell_type": "code",
   "execution_count": 169,
   "id": "50b3bc6c-ccca-4caf-838b-abe6e9da15a0",
   "metadata": {},
   "outputs": [
    {
     "name": "stdin",
     "output_type": "stream",
     "text": [
      " 텍스트를 입력하시오\n"
     ]
    },
    {
     "data": {
      "text/plain": [
       "'텍스트를 입력하시오'"
      ]
     },
     "execution_count": 169,
     "metadata": {},
     "output_type": "execute_result"
    }
   ],
   "source": [
    "## input()\n",
    "input()"
   ]
  },
  {
   "cell_type": "code",
   "execution_count": 171,
   "id": "7e2b6b48-0faa-43f0-868a-080e059450e2",
   "metadata": {},
   "outputs": [
    {
     "name": "stdin",
     "output_type": "stream",
     "text": [
      " 1\n"
     ]
    }
   ],
   "source": [
    "inp1=input()"
   ]
  },
  {
   "cell_type": "code",
   "execution_count": 173,
   "id": "79b6417d-bede-4e6f-bbf5-aed393fa8b48",
   "metadata": {},
   "outputs": [
    {
     "data": {
      "text/plain": [
       "str"
      ]
     },
     "execution_count": 173,
     "metadata": {},
     "output_type": "execute_result"
    }
   ],
   "source": [
    "type(inp1)\n",
    "# input() 함수는 디폴트로 str 타입 데이터를 입력받는다."
   ]
  },
  {
   "cell_type": "code",
   "execution_count": 174,
   "id": "e8e6ab3e-9df7-4434-a721-8af75e54a820",
   "metadata": {},
   "outputs": [
    {
     "name": "stdin",
     "output_type": "stream",
     "text": [
      "숫자를 입력하시오 5\n"
     ]
    }
   ],
   "source": [
    "inp2 = int(input('숫자를 입력하시오'))"
   ]
  },
  {
   "cell_type": "code",
   "execution_count": 175,
   "id": "2ac35b3e-7b8d-4a41-9e4c-c74dbdc15e80",
   "metadata": {},
   "outputs": [
    {
     "data": {
      "text/plain": [
       "int"
      ]
     },
     "execution_count": 175,
     "metadata": {},
     "output_type": "execute_result"
    }
   ],
   "source": [
    "type(inp2)"
   ]
  },
  {
   "cell_type": "code",
   "execution_count": 177,
   "id": "e73304e9-326d-4a89-9b6e-a6b65f081f73",
   "metadata": {},
   "outputs": [
    {
     "name": "stdin",
     "output_type": "stream",
     "text": [
      "이름을 입력하시오 고래\n",
      "종을 입력하시오 포유류\n"
     ]
    }
   ],
   "source": [
    "name1 = input('이름을 입력하시오')\n",
    "type1 = input('종을 입력하시오')\n",
    "\n",
    "input_dict = {name1 : type1}"
   ]
  },
  {
   "cell_type": "code",
   "execution_count": 178,
   "id": "abd00a33-980e-4486-9110-4f630859080e",
   "metadata": {
    "scrolled": true
   },
   "outputs": [
    {
     "data": {
      "text/plain": [
       "{'고래': '포유류'}"
      ]
     },
     "execution_count": 178,
     "metadata": {},
     "output_type": "execute_result"
    }
   ],
   "source": [
    "input_dict"
   ]
  },
  {
   "cell_type": "markdown",
   "id": "07d6d518-f908-4ffe-a3e7-7612428cae4a",
   "metadata": {},
   "source": [
    "# 파이썬 구문 (Statement)\n",
    "- 특정 코드 반복 / 조건 만족 시 "
   ]
  },
  {
   "cell_type": "markdown",
   "id": "0fc4f625-da52-4cb1-9ec5-9b096f1d4092",
   "metadata": {},
   "source": [
    "## 조건문\n",
    "- if / elif / else\n",
    "- in / not in\n",
    "- pass"
   ]
  },
  {
   "cell_type": "code",
   "execution_count": 199,
   "id": "33d2051d-4013-4999-8c14-88eda59b4519",
   "metadata": {},
   "outputs": [
    {
     "name": "stdout",
     "output_type": "stream",
     "text": [
      "해당 데이터는 100보다 작습니다\n"
     ]
    }
   ],
   "source": [
    "# if\n",
    "data1 = 50\n",
    "\n",
    "if data1 >= 100: # 해당 조건을 만족하면, 바로 아래 구문들을 실행\n",
    "    print('해당 데이터는 100보다 큽니다')\n",
    "    # 들여쓰기 : tab이나 space를 이용해 문장의 종속관계를 표현\n",
    "else: # if나 elif를 만족하지 않는 경우 else를 실행\n",
    "    print('해당 데이터는 100보다 작습니다')"
   ]
  },
  {
   "cell_type": "code",
   "execution_count": 200,
   "id": "c61ded52-1d6b-4059-b24c-0080aedcdaad",
   "metadata": {},
   "outputs": [
    {
     "name": "stdout",
     "output_type": "stream",
     "text": [
      "C\n"
     ]
    }
   ],
   "source": [
    "# elif: 여러 조건을 걸고 싶은 경우\n",
    "data2 = 70\n",
    "\n",
    "if data2 >= 90:\n",
    "    print('A')\n",
    "elif data2 >= 80:\n",
    "    print('B')\n",
    "elif data2 >= 70:\n",
    "    print('C')\n",
    "else:\n",
    "    print('F')"
   ]
  },
  {
   "cell_type": "code",
   "execution_count": 202,
   "id": "ed0cb0c2-fcfe-4ae2-9d21-4ee2a244ba06",
   "metadata": {},
   "outputs": [
    {
     "name": "stdout",
     "output_type": "stream",
     "text": [
      "A\n"
     ]
    }
   ],
   "source": [
    "# in / not in\n",
    "# 문자열이 들어갔는지 확인\n",
    "\n",
    "data3 = 'python 데이터 분석'\n",
    "\n",
    "if 'python' in data3:\n",
    "    print('A')\n",
    "elif '데이터' in data3:\n",
    "    print('B')\n",
    "elif '분석' in data3:\n",
    "    print('C')\n",
    "else:\n",
    "    print('D')\n",
    "\n",
    "# if문을 사용하는 경우 첫번째 조건을 만난 후, 이후의 코드는 생략"
   ]
  },
  {
   "cell_type": "code",
   "execution_count": 203,
   "id": "3864beb9-1ffa-46e9-80af-247309c4e8df",
   "metadata": {},
   "outputs": [
    {
     "name": "stdout",
     "output_type": "stream",
     "text": [
      "python\n"
     ]
    }
   ],
   "source": [
    "if 'java' in data3:\n",
    "    print('java')\n",
    "elif 'python' in data3:\n",
    "    print('python')\n",
    "else:\n",
    "    print('R')"
   ]
  },
  {
   "cell_type": "code",
   "execution_count": 204,
   "id": "9a4bc583-8efd-4ca3-9746-a50e0e9c68c3",
   "metadata": {},
   "outputs": [
    {
     "name": "stdout",
     "output_type": "stream",
     "text": [
      "A\n"
     ]
    }
   ],
   "source": [
    "# 리스트 내 특정 값이 있는지 확인 (in)\n",
    "\n",
    "data4 = [100, 200, 300, 400]\n",
    "\n",
    "if 100 in data4:\n",
    "    print('A')\n",
    "else:\n",
    "    print('F')"
   ]
  },
  {
   "cell_type": "code",
   "execution_count": 205,
   "id": "7262d01c-ba57-4aa6-9aa1-b982dfa0ccba",
   "metadata": {},
   "outputs": [
    {
     "name": "stdout",
     "output_type": "stream",
     "text": [
      "F\n"
     ]
    }
   ],
   "source": [
    "# 특정 값이 없는 경우 확인 (not in)\n",
    "if 100 not in data4:\n",
    "    print('A')\n",
    "else:\n",
    "    print('F')"
   ]
  },
  {
   "cell_type": "code",
   "execution_count": 206,
   "id": "cdc65482-d0ea-4a9a-b304-e57c11734359",
   "metadata": {},
   "outputs": [
    {
     "name": "stdout",
     "output_type": "stream",
     "text": [
      "A\n"
     ]
    }
   ],
   "source": [
    "# else 구문 사용하지 않아도 if문 사용 가능\n",
    "data5 = [1000, 2000, 3000]\n",
    "if 1000 in data5:\n",
    "    print('A')\n",
    "elif 2000 in data5:\n",
    "    print('B')"
   ]
  },
  {
   "cell_type": "code",
   "execution_count": 207,
   "id": "735ca4af-8b7f-4ae5-b0ac-27a712d51c2f",
   "metadata": {},
   "outputs": [],
   "source": [
    "# pass : 아무것도 실행하지 않음\n",
    "data6 = ['A', 'B', 'C']\n",
    "if 'A' in data6:\n",
    "    pass\n",
    "elif 'D' in data6:\n",
    "    print('F')"
   ]
  },
  {
   "cell_type": "code",
   "execution_count": 208,
   "id": "8110ba31-b6c5-4603-8347-5ad127f8011d",
   "metadata": {},
   "outputs": [
    {
     "data": {
      "text/plain": [
       "'A'"
      ]
     },
     "execution_count": 208,
     "metadata": {},
     "output_type": "execute_result"
    }
   ],
   "source": [
    "# 조건부 표현식\n",
    "data7 = 200\n",
    "\n",
    "if data7 > 30:\n",
    "    data8 = 'A'\n",
    "else:\n",
    "    data8 = 'B'\n",
    "\n",
    "data8"
   ]
  },
  {
   "cell_type": "code",
   "execution_count": 210,
   "id": "eab63732-5463-4478-978a-e6ee5d1814bd",
   "metadata": {},
   "outputs": [
    {
     "data": {
      "text/plain": [
       "'A'"
      ]
     },
     "execution_count": 210,
     "metadata": {},
     "output_type": "execute_result"
    }
   ],
   "source": [
    "# 변수 = (조건문이 참일 때 부여할 값) if (조건식) else (조건문이 거짓일 때 부여할 값)\n",
    "data8 = 'A' if data7 >= 30 else 'B'\n",
    "data8"
   ]
  },
  {
   "cell_type": "markdown",
   "id": "e62535fd-653d-4fc1-99ac-8ccf6937e2cc",
   "metadata": {},
   "source": [
    "## 반복문\n",
    "- while\n",
    "- for"
   ]
  },
  {
   "cell_type": "code",
   "execution_count": 211,
   "id": "c8b6b7a1-7f50-46ce-a16d-6198661b3b7d",
   "metadata": {},
   "outputs": [],
   "source": [
    "# while\n",
    "data9 = 200\n",
    "# while data9 > 50:\n",
    "#     print('go')\n",
    "\n",
    "# 조건문이 참인 경우\n",
    "# 이하의 코드를 반복실행"
   ]
  },
  {
   "cell_type": "code",
   "execution_count": 212,
   "id": "1299ef93-1187-4cf8-8202-2773d16d6bb8",
   "metadata": {},
   "outputs": [
    {
     "name": "stdout",
     "output_type": "stream",
     "text": [
      "go\n"
     ]
    }
   ],
   "source": [
    "while data9 > 50:\n",
    "    print('go')\n",
    "    break # 중지"
   ]
  },
  {
   "cell_type": "code",
   "execution_count": 213,
   "id": "4de2e5a5-6df1-4c24-81e2-2ed5c130d933",
   "metadata": {},
   "outputs": [
    {
     "name": "stdout",
     "output_type": "stream",
     "text": [
      "1\n",
      "2\n",
      "3\n",
      "4\n",
      "5\n",
      "6\n",
      "7\n",
      "8\n",
      "9\n",
      "10\n"
     ]
    }
   ],
   "source": [
    "data10 = 0\n",
    "\n",
    "while data10 < 10:\n",
    "    data10 = data10 + 1\n",
    "    print(data10)"
   ]
  },
  {
   "cell_type": "code",
   "execution_count": 218,
   "id": "225ef6da-56f4-4c58-a51f-cedd57e57fc5",
   "metadata": {},
   "outputs": [
    {
     "name": "stdout",
     "output_type": "stream",
     "text": [
      "1\n",
      "2\n",
      "3\n",
      "4\n",
      "5\n",
      "6\n",
      "7\n",
      "8\n",
      "9\n",
      "10\n"
     ]
    }
   ],
   "source": [
    "data10 = 0\n",
    "\n",
    "while data10 < 10:\n",
    "    data10 +=1 # data10 = data10 + 1\n",
    "    print(data10)"
   ]
  },
  {
   "cell_type": "code",
   "execution_count": 219,
   "id": "3ea9b3bd-d67b-4806-becf-2b9f1b300fb6",
   "metadata": {},
   "outputs": [
    {
     "name": "stdout",
     "output_type": "stream",
     "text": [
      "1\n",
      "2\n",
      "4\n",
      "5\n"
     ]
    }
   ],
   "source": [
    "# 조건 초기화\n",
    "# continue\n",
    "# 해당 조건을 만나면 이후의 코드를 모두 생략한 후 처음으로 돌아가서 실행\n",
    "\n",
    "data1 = 0\n",
    "while data1 < 5:\n",
    "    data1 += 1\n",
    "\n",
    "    if data1 == 3:\n",
    "        continue\n",
    "\n",
    "    print(data1)"
   ]
  },
  {
   "cell_type": "markdown",
   "id": "588469a5-f5ab-4f4c-8a00-1fbe808f58b0",
   "metadata": {},
   "source": [
    "# for문\n",
    "- for와 in 같이 씀\n",
    "- range(n, m): n부터 m-1까지 출력"
   ]
  },
  {
   "cell_type": "code",
   "execution_count": 221,
   "id": "dd66aa10-af03-4aa9-9b1b-7e678f5db3a9",
   "metadata": {},
   "outputs": [
    {
     "name": "stdout",
     "output_type": "stream",
     "text": [
      "0\n",
      "1\n",
      "2\n",
      "3\n"
     ]
    }
   ],
   "source": [
    "for i in range(0, 4):\n",
    "    print(i)"
   ]
  },
  {
   "cell_type": "code",
   "execution_count": 222,
   "id": "fa93d747-dcb7-4cf0-885a-2805076395af",
   "metadata": {},
   "outputs": [
    {
     "name": "stdout",
     "output_type": "stream",
     "text": [
      "a\n",
      "b\n",
      "c\n",
      "d\n",
      "e\n"
     ]
    }
   ],
   "source": [
    "list1 = ['a', 'b', 'c', 'd', 'e']\n",
    "for i in list1:\n",
    "    print(i)"
   ]
  },
  {
   "cell_type": "code",
   "execution_count": 224,
   "id": "09c845d8-e18b-4f37-9f6b-0d386681557f",
   "metadata": {},
   "outputs": [
    {
     "name": "stdout",
     "output_type": "stream",
     "text": [
      "0 a\n",
      "1 b\n",
      "2 c\n",
      "3 1\n",
      "4 2\n",
      "5 3\n"
     ]
    }
   ],
   "source": [
    "# range와 인덱스 번호를 병용할 떄\n",
    "list2 = ['a', 'b', 'c', 1, 2, 3]\n",
    "for i in range(len(list2)):\n",
    "    print(i, list2[i])\n",
    "\n",
    "# 인덱싱을 사용하기 위해\n",
    "# for i in ragne(len(변수)):\n",
    "# i를 뺴와서 인덱스 번호와 데이터를 순차적으로 호출"
   ]
  },
  {
   "cell_type": "code",
   "execution_count": 227,
   "id": "ab2f3fcb-0af3-4b35-80d2-80d49659974e",
   "metadata": {},
   "outputs": [
    {
     "name": "stdout",
     "output_type": "stream",
     "text": [
      "3\n",
      "5\n",
      "6\n",
      "5\n",
      "3\n"
     ]
    }
   ],
   "source": [
    "list3 = [1, 2, 3, 3, 2, 1]\n",
    "for i in range(len(list3) - 1):\n",
    "    print(list3[i] + list3[i+1])"
   ]
  },
  {
   "cell_type": "code",
   "execution_count": 229,
   "id": "669541ea-5de1-4d01-bfba-c07daab147dc",
   "metadata": {},
   "outputs": [
    {
     "name": "stdout",
     "output_type": "stream",
     "text": [
      "111.0\n",
      "222.0\n",
      "333.0\n"
     ]
    }
   ],
   "source": [
    "for i in [100, 200, 300]:\n",
    "    print(i + i/10 + i/100)"
   ]
  },
  {
   "cell_type": "code",
   "execution_count": 230,
   "id": "5f6a9197-6271-4651-a133-8091e68913ad",
   "metadata": {},
   "outputs": [
    {
     "name": "stdout",
     "output_type": "stream",
     "text": [
      "100 200\n",
      "300\n",
      "300 400\n",
      "700\n",
      "500 600\n",
      "1100\n"
     ]
    }
   ],
   "source": [
    "# 튜플 unpacking\n",
    "data2 = [(100, 200), (300, 400), (500, 600)]\n",
    "\n",
    "for i, j in data2:\n",
    "    print(i, j)\n",
    "    print(i + j)"
   ]
  },
  {
   "cell_type": "code",
   "execution_count": 231,
   "id": "171c4eeb-21bc-477b-baf9-485ba10ae8a1",
   "metadata": {},
   "outputs": [
    {
     "data": {
      "text/plain": [
       "[0, 1, 2, 3, 4, 5, 6, 7, 8, 9]"
      ]
     },
     "execution_count": 231,
     "metadata": {},
     "output_type": "execute_result"
    }
   ],
   "source": [
    "data3 = []\n",
    "for i in range(0, 10):\n",
    "    data3.append(i)\n",
    "\n",
    "data3"
   ]
  },
  {
   "cell_type": "code",
   "execution_count": 232,
   "id": "e0b02f7d-a71e-4a3d-8bd3-1fb2aae670af",
   "metadata": {},
   "outputs": [
    {
     "data": {
      "text/plain": [
       "[0, 1, 2, 3, 4, 5, 6, 7, 8, 9]"
      ]
     },
     "execution_count": 232,
     "metadata": {},
     "output_type": "execute_result"
    }
   ],
   "source": [
    "# list comprehension\n",
    "[x for x in range(0, 10)]"
   ]
  },
  {
   "cell_type": "code",
   "execution_count": 233,
   "id": "c22f2965-4fb1-4943-83a4-51b74c9bbc62",
   "metadata": {},
   "outputs": [
    {
     "data": {
      "text/plain": [
       "[2, 4, 6, 8, 10]"
      ]
     },
     "execution_count": 233,
     "metadata": {},
     "output_type": "execute_result"
    }
   ],
   "source": [
    "# 1~11 까지 중 짝수인 값만 리스트로 생성\n",
    "[x for x in range(1, 11) if x % 2 ==0]"
   ]
  },
  {
   "cell_type": "code",
   "execution_count": 235,
   "id": "6113d944-22e8-4daa-adc6-ca9a09198cd1",
   "metadata": {},
   "outputs": [
    {
     "name": "stdout",
     "output_type": "stream",
     "text": [
      "1\n",
      "11\n",
      "111\n",
      "1111\n"
     ]
    }
   ],
   "source": [
    "# 특정 리스트 내 모든 숫자 데이터의 합\n",
    "data4 = [1, 10, 100, 1000]\n",
    "result1 = 0\n",
    "\n",
    "for i in data4:\n",
    "    result1 = result1+i\n",
    "    print(result1)"
   ]
  },
  {
   "cell_type": "code",
   "execution_count": 236,
   "id": "6e511830-f59e-44bb-ab8f-9e6412f2e4b9",
   "metadata": {},
   "outputs": [
    {
     "data": {
      "text/plain": [
       "1111"
      ]
     },
     "execution_count": 236,
     "metadata": {},
     "output_type": "execute_result"
    }
   ],
   "source": [
    "sum(data4)\n",
    "#sum(): 자료구조 내의 값을 합쳐 반환해주는 함수"
   ]
  },
  {
   "cell_type": "code",
   "execution_count": 238,
   "id": "09e62225-f838-451e-8fe6-ad689bc0c548",
   "metadata": {},
   "outputs": [
    {
     "name": "stdout",
     "output_type": "stream",
     "text": [
      "wooooo\n",
      "to infinity\n",
      "snake in my boots\n",
      "wooooo\n"
     ]
    }
   ],
   "source": [
    "# 반복문과 조건문 병용\n",
    "\n",
    "toystory = ['alien', 'buzz', 'woody', 'alien']\n",
    "\n",
    "for claw in toystory:\n",
    "    if claw == 'buzz':\n",
    "        print('to infinity')\n",
    "    elif claw == 'woody':\n",
    "        print('snake in my boots')\n",
    "    elif claw == 'alien':\n",
    "        print('wooooo')"
   ]
  }
 ],
 "metadata": {
  "kernelspec": {
   "display_name": "Python 3 (ipykernel)",
   "language": "python",
   "name": "python3"
  },
  "language_info": {
   "codemirror_mode": {
    "name": "ipython",
    "version": 3
   },
   "file_extension": ".py",
   "mimetype": "text/x-python",
   "name": "python",
   "nbconvert_exporter": "python",
   "pygments_lexer": "ipython3",
   "version": "3.12.4"
  }
 },
 "nbformat": 4,
 "nbformat_minor": 5
}
